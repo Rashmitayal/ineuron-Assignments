{
 "cells": [
  {
   "cell_type": "code",
   "execution_count": 5,
   "id": "140c38d8",
   "metadata": {},
   "outputs": [],
   "source": [
    "import array as arr"
   ]
  },
  {
   "cell_type": "markdown",
   "id": "1f667daa",
   "metadata": {},
   "source": [
    "1.Write a Python program to find sum of elements in list?"
   ]
  },
  {
   "cell_type": "code",
   "execution_count": 4,
   "id": "ad104ef5",
   "metadata": {
    "scrolled": true
   },
   "outputs": [
    {
     "name": "stdout",
     "output_type": "stream",
     "text": [
      "sum of array is  45\n"
     ]
    }
   ],
   "source": [
    "arr1= [1,2,3,4,5,6,7,8,9]\n",
    "sum_array=0\n",
    "for i in range (len(arr1)):\n",
    "    sum_array=sum_array + arr1[i]\n",
    "print(\"sum of array is \", sum_array)"
   ]
  },
  {
   "cell_type": "markdown",
   "id": "d721ebf5",
   "metadata": {},
   "source": [
    "OR By using SUM function"
   ]
  },
  {
   "cell_type": "code",
   "execution_count": 1,
   "id": "44071afa",
   "metadata": {},
   "outputs": [],
   "source": [
    "arr2=[1,2,3,4,5,6,7,8,9]"
   ]
  },
  {
   "cell_type": "code",
   "execution_count": 3,
   "id": "e8a5eaf1",
   "metadata": {},
   "outputs": [
    {
     "data": {
      "text/plain": [
       "45"
      ]
     },
     "execution_count": 3,
     "metadata": {},
     "output_type": "execute_result"
    }
   ],
   "source": [
    "sum(arr2)"
   ]
  },
  {
   "cell_type": "markdown",
   "id": "27763621",
   "metadata": {},
   "source": [
    " 2. Write a Python program to find largest element in an array?"
   ]
  },
  {
   "cell_type": "code",
   "execution_count": 13,
   "id": "ac18ffd7",
   "metadata": {},
   "outputs": [
    {
     "name": "stdout",
     "output_type": "stream",
     "text": [
      "60\n"
     ]
    }
   ],
   "source": [
    "arr1=[20,40,50,60]\n",
    "large=0\n",
    "for i in range(len(arr1)):\n",
    "    if arr1[i] > large:\n",
    "        large = arr1[i]\n",
    "print(large)"
   ]
  },
  {
   "cell_type": "markdown",
   "id": "e52d15c7",
   "metadata": {},
   "source": [
    "3. Write a program for array roatation?"
   ]
  },
  {
   "cell_type": "code",
   "execution_count": 53,
   "id": "5f170043",
   "metadata": {},
   "outputs": [
    {
     "name": "stdout",
     "output_type": "stream",
     "text": [
      "[50, 60, 80, 20, 40]\n",
      "5\n"
     ]
    }
   ],
   "source": [
    "#left rotate \n",
    "\n",
    "arr1=[20,40,50,60,80]\n",
    "temp=0\n",
    "shift= 2       #no of rotation \n",
    "for j in range (0,shift):\n",
    "    temp= arr1[0]\n",
    "    for i in range (len(arr1)-1):\n",
    "           arr1[i]= arr1[i+1]\n",
    "    arr1[len(arr1)-1]=temp\n",
    "print(arr1)\n",
    "print(len(arr1))\n",
    "    "
   ]
  },
  {
   "cell_type": "code",
   "execution_count": 68,
   "id": "a93f65b5",
   "metadata": {},
   "outputs": [
    {
     "name": "stdout",
     "output_type": "stream",
     "text": [
      "[60, 80, 20, 40, 50]\n"
     ]
    }
   ],
   "source": [
    "# right rotate\n",
    "\n",
    "arr1=[20,40,50,60,80]\n",
    "temp=0\n",
    "shift= 2       #no of rotation \n",
    "l=(len(arr1)-1)\n",
    "for j in range (0,shift):\n",
    "    temp= arr1[len(arr1)-1]\n",
    "    for i in range (len(arr1)-1,0,-1):  # -1 as we want loop in reverse order\n",
    "        arr1[i]= arr1[i-1]\n",
    "    arr1[0]=temp\n",
    "        \n",
    "print(arr1)"
   ]
  },
  {
   "cell_type": "markdown",
   "id": "48ec8b0c",
   "metadata": {},
   "source": [
    "4.Write python program to split the arrary and add the first part to the end?"
   ]
  },
  {
   "cell_type": "code",
   "execution_count": 16,
   "id": "22cadf91",
   "metadata": {},
   "outputs": [
    {
     "name": "stdout",
     "output_type": "stream",
     "text": [
      "[14, 8, 4, 12, 45, 23, 67]\n"
     ]
    }
   ],
   "source": [
    "\n",
    "def splitarray(arr1,n,k):\n",
    "    b=arr1[:k]\n",
    "    return(arr1[k::]+b[::])\n",
    "\n",
    "arr1=[12,45,23,67,14,8,4]\n",
    "n=len(arr1)\n",
    "k=4     # position to split array\n",
    "arr1=splitarray(arr1,n,k)\n",
    "\n",
    "\n",
    "print (arr1)"
   ]
  },
  {
   "cell_type": "markdown",
   "id": "ee99080c",
   "metadata": {},
   "source": [
    "5. Write a Python program to check if given array is monotonic?"
   ]
  },
  {
   "cell_type": "code",
   "execution_count": 1,
   "id": "bf8d18ea",
   "metadata": {},
   "outputs": [],
   "source": [
    "## An array is monotonic if all elements are in increasing or decreasing order\n",
    "def monotonic(a):\n",
    "    return (all(a[i] <= a[i+1] for i in range(len(a)-1)) or\n",
    "            all(a[i] >= a[i+1] for i in range(len(a)-1)) )\n",
    "    "
   ]
  },
  {
   "cell_type": "code",
   "execution_count": 3,
   "id": "d85437f3",
   "metadata": {},
   "outputs": [
    {
     "name": "stdout",
     "output_type": "stream",
     "text": [
      "True\n"
     ]
    }
   ],
   "source": [
    "a=[1,2,3,4,6,6,7]\n",
    "print (monotonic(a))"
   ]
  },
  {
   "cell_type": "code",
   "execution_count": 4,
   "id": "5e81ee40",
   "metadata": {},
   "outputs": [
    {
     "name": "stdout",
     "output_type": "stream",
     "text": [
      "False\n"
     ]
    }
   ],
   "source": [
    "a=a=[1,2,10,4,6,6,7]\n",
    "print (monotonic(a))"
   ]
  },
  {
   "cell_type": "code",
   "execution_count": 5,
   "id": "f4ee4eb8",
   "metadata": {},
   "outputs": [
    {
     "name": "stdout",
     "output_type": "stream",
     "text": [
      "True\n"
     ]
    }
   ],
   "source": [
    "a=a=[20,18,12,10,8]\n",
    "print (monotonic(a))"
   ]
  },
  {
   "cell_type": "code",
   "execution_count": null,
   "id": "9e0d9a33",
   "metadata": {},
   "outputs": [],
   "source": []
  }
 ],
 "metadata": {
  "kernelspec": {
   "display_name": "Python 3 (ipykernel)",
   "language": "python",
   "name": "python3"
  },
  "language_info": {
   "codemirror_mode": {
    "name": "ipython",
    "version": 3
   },
   "file_extension": ".py",
   "mimetype": "text/x-python",
   "name": "python",
   "nbconvert_exporter": "python",
   "pygments_lexer": "ipython3",
   "version": "3.9.13"
  }
 },
 "nbformat": 4,
 "nbformat_minor": 5
}
